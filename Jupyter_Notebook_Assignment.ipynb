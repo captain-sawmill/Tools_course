{
 "cells": [
  {
   "cell_type": "markdown",
   "metadata": {},
   "source": [
    "<center>\n",
    "    <img src=\"https://s3-api.us-geo.objectstorage.softlayer.net/cf-courses-data/CognitiveClass/Logos/organization_logo/organization_logo.png\" width=\"300\" alt=\"cognitiveclass.ai logo\"  />\n",
    "</center>\n"
   ]
  },
  {
   "cell_type": "markdown",
   "metadata": {},
   "source": [
    "# My Jupyter Notebook on IBM Watson Studio"
   ]
  },
  {
   "cell_type": "markdown",
   "metadata": {},
   "source": [
    "**Peter Wong**\n",
    "\n",
    "Full-Time Accountant, Aspiring Industrial Data Scientist"
   ]
  },
  {
   "cell_type": "markdown",
   "metadata": {},
   "source": [
    "_I am interested in data science because insights from data can lead to making better strategic decisions._"
   ]
  },
  {
   "cell_type": "markdown",
   "metadata": {},
   "source": [
    "### This code converts temperature from Celsius to Fahrenheit ###"
   ]
  },
  {
   "cell_type": "code",
   "execution_count": 8,
   "metadata": {},
   "outputs": [
    {
     "data": {
      "text/plain": [
       "212.0"
      ]
     },
     "execution_count": 8,
     "metadata": {},
     "output_type": "execute_result"
    }
   ],
   "source": [
    "def CtoF(temp):\n",
    "    return 9/5*temp+32\n",
    "CtoF(100)"
   ]
  },
  {
   "attachments": {
    "3869373b-7ab4-45ff-87c4-a7fb0b9d7685.jpg": {
     "image/jpeg": "[encoded data removed]"
    }
   },
   "cell_type": "markdown",
   "metadata": {},
   "source": [
    "- - -\n",
    "\n",
    "|Courses|Completed?|\n",
    "|:---|---:|\n",
    "|1. ~~What is Data Science?~~ | Yes|\n",
    "|2. Tools for Data Science | Almost|\n",
    "\n",
    "_Remaining courses_\n",
    "\n",
    "3. Data Science Methodology\n",
    "4. Python for Data Science, AI & Development\n",
    "5. Python Project for Data Science\n",
    "6. Database and SQL for Data Science with Python\n",
    "7. Data Analysis with Python\n",
    "8. Data Visualization with Python\n",
    "9. Machine Learning with Python\n",
    "10. Applied Data Science Capstone\n",
    "\n",
    ">*Do the difficult things while they are easy and do the great things while they are small. A journey of a thousand miles must begin with a single step.*\n",
    ">\n",
    ">**Lao Tzu**\n",
    ">\n",
    ">![download.jpg](attachment:3869373b-7ab4-45ff-87c4-a7fb0b9d7685.jpg)\n",
    ">\n",
    ">https://www.brainyquote.com/quotes/lao_tzu_398196"
   ]
  },
  {
   "cell_type": "code",
   "execution_count": null,
   "metadata": {},
   "outputs": [],
   "source": []
  }
 ],
 "metadata": {
  "kernelspec": {
   "display_name": "Python",
   "language": "python",
   "name": "conda-env-python-py"
  },
  "language_info": {
   "codemirror_mode": {
    "name": "ipython",
    "version": 3
   },
   "file_extension": ".py",
   "mimetype": "text/x-python",
   "name": "python",
   "nbconvert_exporter": "python",
   "pygments_lexer": "ipython3",
   "version": "3.7.12"
  }
 },
 "nbformat": 4,
 "nbformat_minor": 4
}
